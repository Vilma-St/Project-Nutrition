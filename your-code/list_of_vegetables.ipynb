{
 "cells": [
  {
   "cell_type": "code",
   "execution_count": 2,
   "metadata": {},
   "outputs": [],
   "source": [
    "# Import libraries\n",
    "\n",
    "import requests\n",
    "from bs4 import BeautifulSoup\n",
    "import pandas as pd\n"
   ]
  },
  {
   "cell_type": "code",
   "execution_count": 3,
   "metadata": {},
   "outputs": [
    {
     "name": "stdout",
     "output_type": "stream",
     "text": [
      "['Amaranth', 'Arugula', 'Beet', 'Bok choy', 'Borage', 'Broccoli', 'Brooklime', 'Brussels sprouts', 'Cabbage', 'Catsear', 'Celery', 'Celtuce', 'Chaya', 'Chickweed', 'Chicory', 'Chinese mallow', 'Garland Chrysanthemum', 'Collard greens', 'Common purslane', 'Corn salad', 'Cress', 'Dandelion', 'Dill', 'Endive', 'Fat hen', 'Fiddlehead', 'Fluted pumpkin', 'Golden samphire', 'Good King Henry', 'Grape', 'Greater plantain', 'Kai-lan', 'Kale', 'Komatsuna', 'Kuka', 'Lagos bologi', \"Lamb's lettuce\", \"Lamb's quarters\", 'Land cress', 'Lettuce', \"Lizard's tail\", 'Malabar spinach', 'Mallow', 'Melokhia', \"Miner's lettuce\", 'Mizuna greens', 'Mustard', 'Napa cabbage', 'New Zealand Spinach', 'Orache', 'Pak choy', 'Paracress', 'Pea', 'Poke', 'Radicchio', 'Rapini', 'Samphire', 'Sculpit', 'Sea beet', 'Sea kale', \"Shepherd's purse\", 'Sierra Leone bologi', 'Soko', 'Sorrel', 'Sour cabbage', 'Spinach', 'Summer purslane', 'Swiss chard', 'Tatsoi', 'Turnip', 'Watercress', 'Water spinach', 'Wheatgrass', 'Yarrow', 'Yao choy', 'Species name', 'Armenian cucumber', 'Avocado', 'Bell pepper', 'Bitter melonBitter gourd', 'CaiguaAchocha', 'CalabashBottle gourd', 'Chayote', 'CucamelonMouse melon', 'Cucumber', 'EggplantAubergineBrinjal', 'Ivy gourd', 'KiwanoHorned melon', 'Luffa', 'Olive fruit', 'Pumpkin', 'Pointed gourd', 'Ridged gourd', 'Snake gourd', 'Spine gourdKantola', 'Squash', 'Sweet pepper', 'Tinda', 'Tomatillo', 'Tomato', 'Vanilla', 'West Indian gherkin', 'Water melon', 'Winter melon', 'ZucchiniCourgette', 'Species name', 'Artichoke', 'Broccoli', 'Broccolini', 'Caper', 'Cauliflower', 'Pumpkin flower', 'Daylily', 'Loroco', 'Courgette flowers', 'Squash blossoms', 'Species name', 'American groundnut', 'Azuki bean', 'Black-eyed pea', 'Chickpea', 'Common bean', 'Drumstick', 'Dolichos bean', 'Fava bean', 'Garbanzo', 'Green bean', 'Guar', 'Horse gram', 'Indian pea', 'Lentil', 'Lima bean', 'Moth bean', 'Mung bean', 'Okra', 'Pea', 'Peanut', 'Pigeon pea', 'Ricebean', 'Runner bean', 'Snap pea', 'Snow pea', 'Soybean', 'Tarwi', 'Tepary bean', 'Urad bean', 'Velvet bean', 'Winged bean', 'Yardlong bean', 'Species name', 'Asparagus', 'Cardoon', 'Celeriac', 'Celery', 'Chives', 'Elephant garlic', 'Florence fennel', 'Garlic', 'Garlic chives', 'Kohlrabi', 'Kurrat', 'Lemongrass', 'Leek', 'Lotus root', 'Nopal', 'Onion', 'Pearl onion', 'Potato onion', 'Prussian asparagus', 'Spring onion / Scallion', 'Shallot', 'Tree onion', 'Welsh onion', 'Wild leek', 'Manchurian wild rice', 'Species name', 'Ahipa', 'Arracacha', 'Bamboo shoot', 'Beetroot', 'Burdock', 'Broadleaf arrowhead', 'Camas', 'Canna', 'Carrot', 'Cassava', 'Chinese artichoke', 'Daikon', 'Earthnut pea', 'Elephant foot yam', 'Ensete', 'Galangal', 'Ginger', 'Hamburg parsley', 'Horseradish', 'Jerusalem artichoke', 'Jícama', 'Mashua', 'Parsnip', 'Pignut', 'Potato', 'Prairie turnip', 'Radish', 'Rutabaga', 'Salsify', 'Scorzonera', 'Skirret', 'Swede', 'Sweet potato', 'Taro', 'Ti', 'Tigernut', 'Turmeric', 'Turnip', 'Ulluco', 'Wasabi', 'Water caltrop', 'Water chestnut', 'Yacón', 'Yam', 'Species name', 'Aonori', 'Arame', 'Carola', 'Dabberlocks (Badderlocks)', 'Dulse (Dillisk)', 'Hijiki', 'Kombu', 'Laver', 'Mozuku', 'Nori', 'Ogonori', 'Sea grape', 'Sea lettuce', 'Wakame']\n"
     ]
    }
   ],
   "source": [
    "# Get quite comprehensive list of vegetables from Wikipedia\n",
    "\n",
    "url = 'https://en.wikipedia.org/wiki/List_of_vegetables'\n",
    "\n",
    "html = requests.get(url).content\n",
    "soup = BeautifulSoup(html, \"lxml\")\n",
    "sub_soup1 = soup.find_all(\"tr\", {'style': \"vertical-align:top\"})\n",
    "\n",
    "veggies = [i.find('a').text for i in sub_soup1]\n",
    "\n",
    "# Removing unwanted characters \n",
    "veggies = [i.replace(\"\\xa0/ \", \"\") for i in veggies]\n",
    "veggies = veggies[1:]\n",
    "\n",
    "# Voila\n",
    "print(veggies)\n",
    "\n",
    "# Save the list to csv for further use\n",
    "veg = pd.DataFrame(veggies)\n",
    "veg.to_csv('../data/vegetables.csv')\n"
   ]
  },
  {
   "cell_type": "code",
   "execution_count": null,
   "metadata": {},
   "outputs": [],
   "source": [
    "\n"
   ]
  },
  {
   "cell_type": "code",
   "execution_count": null,
   "metadata": {},
   "outputs": [],
   "source": []
  }
 ],
 "metadata": {
  "kernelspec": {
   "display_name": "Python 3",
   "language": "python",
   "name": "python3"
  },
  "language_info": {
   "codemirror_mode": {
    "name": "ipython",
    "version": 3
   },
   "file_extension": ".py",
   "mimetype": "text/x-python",
   "name": "python",
   "nbconvert_exporter": "python",
   "pygments_lexer": "ipython3",
   "version": "3.7.7"
  }
 },
 "nbformat": 4,
 "nbformat_minor": 4
}
