{
 "cells": [
  {
   "cell_type": "code",
   "execution_count": 1,
   "metadata": {},
   "outputs": [],
   "source": [
    "# Import libraries\n",
    "\n",
    "import pandas as pd\n",
    "import numpy as np\n",
    "import matplotlib.pyplot as plt\n",
    "%matplotlib inline\n",
    "import seaborn as sns\n",
    "import re\n"
   ]
  },
  {
   "cell_type": "code",
   "execution_count": 2,
   "metadata": {},
   "outputs": [
    {
     "data": {
      "text/html": [
       "<div>\n",
       "<style scoped>\n",
       "    .dataframe tbody tr th:only-of-type {\n",
       "        vertical-align: middle;\n",
       "    }\n",
       "\n",
       "    .dataframe tbody tr th {\n",
       "        vertical-align: top;\n",
       "    }\n",
       "\n",
       "    .dataframe thead th {\n",
       "        text-align: right;\n",
       "    }\n",
       "</style>\n",
       "<table border=\"1\" class=\"dataframe\">\n",
       "  <thead>\n",
       "    <tr style=\"text-align: right;\">\n",
       "      <th></th>\n",
       "      <th>Title</th>\n",
       "      <th>Ingredients</th>\n",
       "      <th>Kcal</th>\n",
       "      <th>Fat</th>\n",
       "      <th>SaturatedFat</th>\n",
       "      <th>Protein</th>\n",
       "      <th>Carbohydrates</th>\n",
       "      <th>Sugars</th>\n",
       "      <th>Fibre</th>\n",
       "      <th>Salt</th>\n",
       "      <th>Type</th>\n",
       "    </tr>\n",
       "  </thead>\n",
       "  <tbody>\n",
       "    <tr>\n",
       "      <th>0</th>\n",
       "      <td>Spiced coconut pastries</td>\n",
       "      <td>1 small cinnamon stick, 4 cardamom pods, 1 bay...</td>\n",
       "      <td>201.0</td>\n",
       "      <td>11.9</td>\n",
       "      <td>5.6</td>\n",
       "      <td>2.0</td>\n",
       "      <td>22.8</td>\n",
       "      <td>6.6</td>\n",
       "      <td>2.4</td>\n",
       "      <td>0.1</td>\n",
       "      <td>Indian</td>\n",
       "    </tr>\n",
       "    <tr>\n",
       "      <th>1</th>\n",
       "      <td>Speedy salmon biryani</td>\n",
       "      <td>300g basmati rice, ½ tbsp vegetable oil, 2 lar...</td>\n",
       "      <td>478.0</td>\n",
       "      <td>10.5</td>\n",
       "      <td>2.7</td>\n",
       "      <td>23.3</td>\n",
       "      <td>70.4</td>\n",
       "      <td>7.9</td>\n",
       "      <td>4.0</td>\n",
       "      <td>0.8</td>\n",
       "      <td>Indian</td>\n",
       "    </tr>\n",
       "    <tr>\n",
       "      <th>2</th>\n",
       "      <td>Onion bhajis with yogurt and goat’s cheese dip</td>\n",
       "      <td>1 tsp cumin seeds, 1 tsp coriander seeds, 1 ts...</td>\n",
       "      <td>112.0</td>\n",
       "      <td>6.2</td>\n",
       "      <td>2.3</td>\n",
       "      <td>5.0</td>\n",
       "      <td>8.0</td>\n",
       "      <td>3.7</td>\n",
       "      <td>2.0</td>\n",
       "      <td>0.5</td>\n",
       "      <td>Indian</td>\n",
       "    </tr>\n",
       "    <tr>\n",
       "      <th>3</th>\n",
       "      <td>Falafel curry with spinach</td>\n",
       "      <td>4 garlic cloves, grated, 4cm piece ginger, gra...</td>\n",
       "      <td>357.0</td>\n",
       "      <td>18.4</td>\n",
       "      <td>2.3</td>\n",
       "      <td>10.7</td>\n",
       "      <td>33.6</td>\n",
       "      <td>10.9</td>\n",
       "      <td>7.1</td>\n",
       "      <td>0.6</td>\n",
       "      <td>Indian</td>\n",
       "    </tr>\n",
       "    <tr>\n",
       "      <th>4</th>\n",
       "      <td>Tomato and tamarind fish curry</td>\n",
       "      <td>2 tsp coriander seeds, 1 tsp cumin seeds, 1 ts...</td>\n",
       "      <td>402.0</td>\n",
       "      <td>16.5</td>\n",
       "      <td>8.3</td>\n",
       "      <td>31.4</td>\n",
       "      <td>29.3</td>\n",
       "      <td>9.6</td>\n",
       "      <td>4.9</td>\n",
       "      <td>1.1</td>\n",
       "      <td>Indian</td>\n",
       "    </tr>\n",
       "  </tbody>\n",
       "</table>\n",
       "</div>"
      ],
      "text/plain": [
       "                                            Title  \\\n",
       "0                         Spiced coconut pastries   \n",
       "1                           Speedy salmon biryani   \n",
       "2  Onion bhajis with yogurt and goat’s cheese dip   \n",
       "3                      Falafel curry with spinach   \n",
       "4                  Tomato and tamarind fish curry   \n",
       "\n",
       "                                         Ingredients   Kcal   Fat  \\\n",
       "0  1 small cinnamon stick, 4 cardamom pods, 1 bay...  201.0  11.9   \n",
       "1  300g basmati rice, ½ tbsp vegetable oil, 2 lar...  478.0  10.5   \n",
       "2  1 tsp cumin seeds, 1 tsp coriander seeds, 1 ts...  112.0   6.2   \n",
       "3  4 garlic cloves, grated, 4cm piece ginger, gra...  357.0  18.4   \n",
       "4  2 tsp coriander seeds, 1 tsp cumin seeds, 1 ts...  402.0  16.5   \n",
       "\n",
       "   SaturatedFat  Protein  Carbohydrates  Sugars  Fibre  Salt    Type  \n",
       "0           5.6      2.0           22.8     6.6    2.4   0.1  Indian  \n",
       "1           2.7     23.3           70.4     7.9    4.0   0.8  Indian  \n",
       "2           2.3      5.0            8.0     3.7    2.0   0.5  Indian  \n",
       "3           2.3     10.7           33.6    10.9    7.1   0.6  Indian  \n",
       "4           8.3     31.4           29.3     9.6    4.9   1.1  Indian  "
      ]
     },
     "execution_count": 2,
     "metadata": {},
     "output_type": "execute_result"
    }
   ],
   "source": [
    "# Read cleaned data\n",
    "data = pd.read_csv(\"../data/recipes_clean.csv\", index_col=\"Unnamed: 0\").reset_index(drop=True)\n",
    "data.head()\n"
   ]
  },
  {
   "cell_type": "code",
   "execution_count": 3,
   "metadata": {},
   "outputs": [
    {
     "data": {
      "text/html": [
       "<div>\n",
       "<style scoped>\n",
       "    .dataframe tbody tr th:only-of-type {\n",
       "        vertical-align: middle;\n",
       "    }\n",
       "\n",
       "    .dataframe tbody tr th {\n",
       "        vertical-align: top;\n",
       "    }\n",
       "\n",
       "    .dataframe thead th {\n",
       "        text-align: right;\n",
       "    }\n",
       "</style>\n",
       "<table border=\"1\" class=\"dataframe\">\n",
       "  <thead>\n",
       "    <tr style=\"text-align: right;\">\n",
       "      <th></th>\n",
       "      <th>count</th>\n",
       "      <th>mean</th>\n",
       "      <th>std</th>\n",
       "      <th>min</th>\n",
       "      <th>25%</th>\n",
       "      <th>50%</th>\n",
       "      <th>75%</th>\n",
       "      <th>max</th>\n",
       "    </tr>\n",
       "    <tr>\n",
       "      <th>Type</th>\n",
       "      <th></th>\n",
       "      <th></th>\n",
       "      <th></th>\n",
       "      <th></th>\n",
       "      <th></th>\n",
       "      <th></th>\n",
       "      <th></th>\n",
       "      <th></th>\n",
       "    </tr>\n",
       "  </thead>\n",
       "  <tbody>\n",
       "    <tr>\n",
       "      <th>Indian</th>\n",
       "      <td>81.0</td>\n",
       "      <td>374.814815</td>\n",
       "      <td>168.164734</td>\n",
       "      <td>38.0</td>\n",
       "      <td>245.00</td>\n",
       "      <td>379.0</td>\n",
       "      <td>461.0</td>\n",
       "      <td>832.0</td>\n",
       "    </tr>\n",
       "    <tr>\n",
       "      <th>Italian</th>\n",
       "      <td>83.0</td>\n",
       "      <td>479.530120</td>\n",
       "      <td>177.222565</td>\n",
       "      <td>60.0</td>\n",
       "      <td>389.00</td>\n",
       "      <td>482.0</td>\n",
       "      <td>586.0</td>\n",
       "      <td>850.0</td>\n",
       "    </tr>\n",
       "    <tr>\n",
       "      <th>Mexican</th>\n",
       "      <td>73.0</td>\n",
       "      <td>474.315068</td>\n",
       "      <td>177.742470</td>\n",
       "      <td>36.0</td>\n",
       "      <td>360.00</td>\n",
       "      <td>467.0</td>\n",
       "      <td>574.0</td>\n",
       "      <td>839.0</td>\n",
       "    </tr>\n",
       "    <tr>\n",
       "      <th>Spanish</th>\n",
       "      <td>82.0</td>\n",
       "      <td>378.353659</td>\n",
       "      <td>182.915239</td>\n",
       "      <td>46.0</td>\n",
       "      <td>225.25</td>\n",
       "      <td>395.5</td>\n",
       "      <td>505.0</td>\n",
       "      <td>896.0</td>\n",
       "    </tr>\n",
       "    <tr>\n",
       "      <th>vegan</th>\n",
       "      <td>90.0</td>\n",
       "      <td>305.611111</td>\n",
       "      <td>156.772339</td>\n",
       "      <td>8.0</td>\n",
       "      <td>218.00</td>\n",
       "      <td>276.5</td>\n",
       "      <td>439.5</td>\n",
       "      <td>616.0</td>\n",
       "    </tr>\n",
       "  </tbody>\n",
       "</table>\n",
       "</div>"
      ],
      "text/plain": [
       "         count        mean         std   min     25%    50%    75%    max\n",
       "Type                                                                     \n",
       "Indian    81.0  374.814815  168.164734  38.0  245.00  379.0  461.0  832.0\n",
       "Italian   83.0  479.530120  177.222565  60.0  389.00  482.0  586.0  850.0\n",
       "Mexican   73.0  474.315068  177.742470  36.0  360.00  467.0  574.0  839.0\n",
       "Spanish   82.0  378.353659  182.915239  46.0  225.25  395.5  505.0  896.0\n",
       "vegan     90.0  305.611111  156.772339   8.0  218.00  276.5  439.5  616.0"
      ]
     },
     "execution_count": 3,
     "metadata": {},
     "output_type": "execute_result"
    }
   ],
   "source": [
    "# Kcal per serving by type of cuisine\n",
    "\n",
    "data.groupby('Type')['Kcal'].describe()\n"
   ]
  },
  {
   "cell_type": "code",
   "execution_count": null,
   "metadata": {},
   "outputs": [],
   "source": []
  },
  {
   "cell_type": "code",
   "execution_count": null,
   "metadata": {},
   "outputs": [],
   "source": []
  },
  {
   "cell_type": "code",
   "execution_count": 4,
   "metadata": {},
   "outputs": [
    {
     "data": {
      "image/png": "[encoded data removed]",
      "text/plain": [
       "<Figure size 1080x216 with 5 Axes>"
      ]
     },
     "metadata": {
      "needs_background": "light"
     },
     "output_type": "display_data"
    }
   ],
   "source": [
    "# Kcal plot\n",
    "g = sns.FacetGrid(data, col=\"Type\")\n",
    "g = g.map(plt.hist, 'Kcal', bins = 20)\n",
    "plt.show()\n"
   ]
  },
  {
   "cell_type": "code",
   "execution_count": 5,
   "metadata": {},
   "outputs": [
    {
     "data": {
      "image/png": "[encoded data removed]",
      "text/plain": [
       "<Figure size 1080x216 with 5 Axes>"
      ]
     },
     "metadata": {
      "needs_background": "light"
     },
     "output_type": "display_data"
    }
   ],
   "source": [
    "# Fat\n",
    "g = sns.FacetGrid(data, col=\"Type\")\n",
    "g = g.map(plt.hist, 'Fat', bins = 20)\n",
    "plt.show()"
   ]
  },
  {
   "cell_type": "code",
   "execution_count": 6,
   "metadata": {},
   "outputs": [
    {
     "data": {
      "image/png": "[encoded data removed]",
      "text/plain": [
       "<Figure size 1080x216 with 5 Axes>"
      ]
     },
     "metadata": {
      "needs_background": "light"
     },
     "output_type": "display_data"
    }
   ],
   "source": [
    "# Saturated Fat\n",
    "g = sns.FacetGrid(data, col=\"Type\")\n",
    "g = g.map(plt.hist, 'SaturatedFat', bins = 20)\n",
    "plt.show()"
   ]
  },
  {
   "cell_type": "code",
   "execution_count": 7,
   "metadata": {},
   "outputs": [
    {
     "data": {
      "image/png": "[encoded data removed]",
      "text/plain": [
       "<Figure size 1080x216 with 5 Axes>"
      ]
     },
     "metadata": {
      "needs_background": "light"
     },
     "output_type": "display_data"
    }
   ],
   "source": [
    "# Protein\n",
    "g = sns.FacetGrid(data, col=\"Type\")\n",
    "g = g.map(plt.hist, 'Protein', bins = 20)\n",
    "plt.show()"
   ]
  },
  {
   "cell_type": "code",
   "execution_count": 8,
   "metadata": {},
   "outputs": [
    {
     "data": {
      "image/png": "[encoded data removed]",
      "text/plain": [
       "<Figure size 1080x216 with 5 Axes>"
      ]
     },
     "metadata": {
      "needs_background": "light"
     },
     "output_type": "display_data"
    }
   ],
   "source": [
    "# Carbohydrates\n",
    "g = sns.FacetGrid(data, col=\"Type\")\n",
    "g = g.map(plt.hist, 'Carbohydrates', bins = 20)\n",
    "plt.show()"
   ]
  },
  {
   "cell_type": "code",
   "execution_count": 9,
   "metadata": {},
   "outputs": [
    {
     "data": {
      "image/png": "[encoded data removed]",
      "text/plain": [
       "<Figure size 1080x216 with 5 Axes>"
      ]
     },
     "metadata": {
      "needs_background": "light"
     },
     "output_type": "display_data"
    }
   ],
   "source": [
    "# Sugars\n",
    "g = sns.FacetGrid(data, col=\"Type\")\n",
    "g = g.map(plt.hist, 'Sugars', bins = 20)\n",
    "plt.show()"
   ]
  },
  {
   "cell_type": "code",
   "execution_count": 10,
   "metadata": {},
   "outputs": [
    {
     "data": {
      "image/png": "[encoded data removed]",
      "text/plain": [
       "<Figure size 1080x216 with 5 Axes>"
      ]
     },
     "metadata": {
      "needs_background": "light"
     },
     "output_type": "display_data"
    }
   ],
   "source": [
    "# Fibre\n",
    "g = sns.FacetGrid(data, col=\"Type\")\n",
    "g = g.map(plt.hist, 'Fibre', bins = 20)\n",
    "plt.show()"
   ]
  },
  {
   "cell_type": "code",
   "execution_count": 11,
   "metadata": {},
   "outputs": [
    {
     "data": {
      "image/png": "[encoded data removed]",
      "text/plain": [
       "<Figure size 1080x216 with 5 Axes>"
      ]
     },
     "metadata": {
      "needs_background": "light"
     },
     "output_type": "display_data"
    }
   ],
   "source": [
    "# Salt\n",
    "g = sns.FacetGrid(data, col=\"Type\")\n",
    "g = g.map(plt.hist, 'Salt', bins = 20)\n",
    "plt.show()"
   ]
  },
  {
   "cell_type": "code",
   "execution_count": 12,
   "metadata": {},
   "outputs": [
    {
     "name": "stdout",
     "output_type": "stream",
     "text": [
      "Null hypothesis rejected\n",
      "Statistic:  3.608549215806001\n",
      "p-value:  0.0004092426292284462\n"
     ]
    }
   ],
   "source": [
    "from scipy.stats import ttest_ind\n",
    "from scipy import stats\n",
    "\n",
    "# H0: there is no significant difference between the two sample means (average Kcal/serving \n",
    "# in Italian and Spanish recipes)\n",
    "# H1: there is a significant difference between the two sample means\n",
    "\n",
    "alpha = 0.05;\n",
    "kcal_italian = data[data['Type'] == 'Italian']['Kcal']\n",
    "kcal_spanish = data[data['Type'] == 'Spanish']['Kcal']\n",
    "\n",
    "st, p = ttest_ind(kcal_italian, kcal_spanish, equal_var=True)\n",
    "\n",
    "print(\"Null hypothesis rejected\") if p < alpha else print(\"Null hypothesis can't be rejected\")\n",
    "\n",
    "print('Statistic: ', st)\n",
    "print('p-value: ', p)\n"
   ]
  },
  {
   "cell_type": "code",
   "execution_count": 13,
   "metadata": {},
   "outputs": [],
   "source": [
    "# ANOVA for Kcal in Italian, Spanish, Mexican and Indian cuisines\n",
    "\n",
    "\n",
    "# print(data[data['Type'] == 'Spanish']['Kcal'].mean() , data[data['Type'] == 'Italian']['Kcal'].mean())\n"
   ]
  },
  {
   "cell_type": "code",
   "execution_count": 14,
   "metadata": {},
   "outputs": [
    {
     "name": "stdout",
     "output_type": "stream",
     "text": [
      "['amaranth', 'arugula', 'beet', 'bok choy', 'borage', 'broccoli', 'brooklime', 'brussels sprouts', 'cabbage', 'catsear', 'celery', 'celtuce', 'chaya', 'chickweed', 'chicory', 'chinese mallow', 'garland chrysanthemum', 'collard greens', 'common purslane', 'corn salad', 'cress', 'dandelion', 'dill', 'endive', 'fat hen', 'fiddlehead', 'fluted pumpkin', 'golden samphire', 'good king henry', 'grape', 'greater plantain', 'kai-lan', 'kale', 'komatsuna', 'kuka', 'lagos bologi', \"lamb's lettuce\", \"lamb's quarters\", 'land cress', 'lettuce', \"lizard's tail\", 'malabar spinach', 'mallow', 'melokhia', \"miner's lettuce\", 'mizuna greens', 'mustard', 'napa cabbage', 'new zealand spinach', 'orache', 'pak choy', 'paracress', 'pea', 'poke', 'radicchio', 'rapini', 'samphire', 'sculpit', 'sea beet', 'sea kale', \"shepherd's purse\", 'sierra leone bologi', 'soko', 'sorrel', 'sour cabbage', 'spinach', 'summer purslane', 'swiss chard', 'tatsoi', 'turnip', 'watercress', 'water spinach', 'wheatgrass', 'yarrow', 'yao choy', 'species name', 'armenian cucumber', 'avocado', 'bell pepper', 'bitter melonbitter gourd', 'caiguaachocha', 'calabashbottle gourd', 'chayote', 'cucamelonmouse melon', 'cucumber', 'eggplant', 'ivy gourd', 'kiwanohorned melon', 'luffa', 'olive fruit', 'pumpkin', 'pointed gourd', 'ridged gourd', 'snake gourd', 'spine gourdkantola', 'squash', 'sweet pepper', 'tinda', 'tomatillo', 'tomato', 'vanilla', 'west indian gherkin', 'water melon', 'winter melon', 'zucchinicourgette', 'species name', 'artichoke', 'broccoli', 'broccolini', 'caper', 'cauliflower', 'pumpkin flower', 'daylily', 'loroco', 'courgette flowers', 'squash blossoms', 'species name', 'american groundnut', 'azuki bean', 'black-eyed pea', 'chickpea', 'common bean', 'drumstick', 'dolichos bean', 'fava bean', 'garbanzo', 'green bean', 'guar', 'horse gram', 'indian pea', 'lentil', 'lima bean', 'moth bean', 'mung bean', 'okra', 'pea', 'peanut', 'pigeon pea', 'ricebean', 'runner bean', 'snap pea', 'snow pea', 'soybean', 'tarwi', 'tepary bean', 'urad bean', 'velvet bean', 'winged bean', 'yardlong bean', 'species name', 'asparagus', 'cardoon', 'celeriac', 'celery', 'chives', 'elephant garlic', 'florence fennel', 'garlic', 'garlic chives', 'kohlrabi', 'kurrat', 'lemongrass', 'leek', 'lotus root', 'nopal', 'onion', 'pearl onion', 'potato onion', 'prussian asparagus', 'spring onion / scallion', 'shallot', 'tree onion', 'welsh onion', 'wild leek', 'manchurian wild rice', 'species name', 'ahipa', 'arracacha', 'bamboo shoot', 'beetroot', 'burdock', 'broadleaf arrowhead', 'camas', 'canna', 'carrot', 'cassava', 'chinese artichoke', 'daikon', 'earthnut pea', 'elephant foot yam', 'ensete', 'galangal', 'ginger', 'hamburg parsley', 'horseradish', 'jerusalem artichoke', 'jícama', 'mashua', 'parsnip', 'pignut', 'potato', 'prairie turnip', 'radish', 'rutabaga', 'salsify', 'scorzonera', 'skirret', 'swede', 'sweet potato', 'taro', 'ti', 'tigernut', 'turmeric', 'turnip', 'ulluco', 'wasabi', 'water caltrop', 'water chestnut', 'yacón', 'yam', 'species name', 'aonori', 'arame', 'carola', 'dabberlocks (badderlocks)', 'dulse (dillisk)', 'hijiki', 'kombu', 'laver', 'mozuku', 'nori', 'ogonori', 'sea grape', 'sea lettuce', 'wakame', 'courgette', 'aubergine', 'zucchini', 'bean', 'spring onion', 'scallion']\n"
     ]
    }
   ],
   "source": [
    "# Read the vegetable list\n",
    "veg = pd.read_csv(\"../data/vegetables.csv\", index_col=\"Unnamed: 0\").reset_index(drop=True)\n",
    "\n",
    "# Most of more known vegetables are written well, except Eggplant.\n",
    "# It is not worth timewise to correct the more exotic ones.\n",
    "\n",
    "veg['0'] = veg['0'].str.replace('EggplantAubergineBrinjal', 'eggplant')\n",
    "\n",
    "veggies = veg.values.tolist()\n",
    "veggies = [i.lower() for j in veggies for i in j]\n",
    "veggies.append('courgette')\n",
    "veggies.append('aubergine')\n",
    "veggies.append('zucchini')\n",
    "veggies.append('bean')\n",
    "veggies.append('spring onion')\n",
    "veggies.append('scallion')\n",
    "\n",
    "print(veggies)\n"
   ]
  },
  {
   "cell_type": "code",
   "execution_count": 15,
   "metadata": {},
   "outputs": [
    {
     "data": {
      "text/html": [
       "<div>\n",
       "<style scoped>\n",
       "    .dataframe tbody tr th:only-of-type {\n",
       "        vertical-align: middle;\n",
       "    }\n",
       "\n",
       "    .dataframe tbody tr th {\n",
       "        vertical-align: top;\n",
       "    }\n",
       "\n",
       "    .dataframe thead th {\n",
       "        text-align: right;\n",
       "    }\n",
       "</style>\n",
       "<table border=\"1\" class=\"dataframe\">\n",
       "  <thead>\n",
       "    <tr style=\"text-align: right;\">\n",
       "      <th></th>\n",
       "      <th>Title</th>\n",
       "      <th>Ingredients</th>\n",
       "      <th>Kcal</th>\n",
       "      <th>Fat</th>\n",
       "      <th>SaturatedFat</th>\n",
       "      <th>Protein</th>\n",
       "      <th>Carbohydrates</th>\n",
       "      <th>Sugars</th>\n",
       "      <th>Fibre</th>\n",
       "      <th>Salt</th>\n",
       "      <th>Type</th>\n",
       "      <th>VeggieScore</th>\n",
       "    </tr>\n",
       "  </thead>\n",
       "  <tbody>\n",
       "    <tr>\n",
       "      <th>0</th>\n",
       "      <td>Spiced coconut pastries</td>\n",
       "      <td>1 small cinnamon stick, 4 cardamom pods, 1 bay...</td>\n",
       "      <td>201.0</td>\n",
       "      <td>11.9</td>\n",
       "      <td>5.6</td>\n",
       "      <td>2.0</td>\n",
       "      <td>22.8</td>\n",
       "      <td>6.6</td>\n",
       "      <td>2.4</td>\n",
       "      <td>0.1</td>\n",
       "      <td>Indian</td>\n",
       "      <td>2</td>\n",
       "    </tr>\n",
       "    <tr>\n",
       "      <th>1</th>\n",
       "      <td>Speedy salmon biryani</td>\n",
       "      <td>300g basmati rice, ½ tbsp vegetable oil, 2 lar...</td>\n",
       "      <td>478.0</td>\n",
       "      <td>10.5</td>\n",
       "      <td>2.7</td>\n",
       "      <td>23.3</td>\n",
       "      <td>70.4</td>\n",
       "      <td>7.9</td>\n",
       "      <td>4.0</td>\n",
       "      <td>0.8</td>\n",
       "      <td>Indian</td>\n",
       "      <td>6</td>\n",
       "    </tr>\n",
       "    <tr>\n",
       "      <th>2</th>\n",
       "      <td>Onion bhajis with yogurt and goat’s cheese dip</td>\n",
       "      <td>1 tsp cumin seeds, 1 tsp coriander seeds, 1 ts...</td>\n",
       "      <td>112.0</td>\n",
       "      <td>6.2</td>\n",
       "      <td>2.3</td>\n",
       "      <td>5.0</td>\n",
       "      <td>8.0</td>\n",
       "      <td>3.7</td>\n",
       "      <td>2.0</td>\n",
       "      <td>0.5</td>\n",
       "      <td>Indian</td>\n",
       "      <td>11</td>\n",
       "    </tr>\n",
       "    <tr>\n",
       "      <th>3</th>\n",
       "      <td>Falafel curry with spinach</td>\n",
       "      <td>4 garlic cloves, grated, 4cm piece ginger, gra...</td>\n",
       "      <td>357.0</td>\n",
       "      <td>18.4</td>\n",
       "      <td>2.3</td>\n",
       "      <td>10.7</td>\n",
       "      <td>33.6</td>\n",
       "      <td>10.9</td>\n",
       "      <td>7.1</td>\n",
       "      <td>0.6</td>\n",
       "      <td>Indian</td>\n",
       "      <td>9</td>\n",
       "    </tr>\n",
       "    <tr>\n",
       "      <th>4</th>\n",
       "      <td>Tomato and tamarind fish curry</td>\n",
       "      <td>2 tsp coriander seeds, 1 tsp cumin seeds, 1 ts...</td>\n",
       "      <td>402.0</td>\n",
       "      <td>16.5</td>\n",
       "      <td>8.3</td>\n",
       "      <td>31.4</td>\n",
       "      <td>29.3</td>\n",
       "      <td>9.6</td>\n",
       "      <td>4.9</td>\n",
       "      <td>1.1</td>\n",
       "      <td>Indian</td>\n",
       "      <td>8</td>\n",
       "    </tr>\n",
       "  </tbody>\n",
       "</table>\n",
       "</div>"
      ],
      "text/plain": [
       "                                            Title  \\\n",
       "0                         Spiced coconut pastries   \n",
       "1                           Speedy salmon biryani   \n",
       "2  Onion bhajis with yogurt and goat’s cheese dip   \n",
       "3                      Falafel curry with spinach   \n",
       "4                  Tomato and tamarind fish curry   \n",
       "\n",
       "                                         Ingredients   Kcal   Fat  \\\n",
       "0  1 small cinnamon stick, 4 cardamom pods, 1 bay...  201.0  11.9   \n",
       "1  300g basmati rice, ½ tbsp vegetable oil, 2 lar...  478.0  10.5   \n",
       "2  1 tsp cumin seeds, 1 tsp coriander seeds, 1 ts...  112.0   6.2   \n",
       "3  4 garlic cloves, grated, 4cm piece ginger, gra...  357.0  18.4   \n",
       "4  2 tsp coriander seeds, 1 tsp cumin seeds, 1 ts...  402.0  16.5   \n",
       "\n",
       "   SaturatedFat  Protein  Carbohydrates  Sugars  Fibre  Salt    Type  \\\n",
       "0           5.6      2.0           22.8     6.6    2.4   0.1  Indian   \n",
       "1           2.7     23.3           70.4     7.9    4.0   0.8  Indian   \n",
       "2           2.3      5.0            8.0     3.7    2.0   0.5  Indian   \n",
       "3           2.3     10.7           33.6    10.9    7.1   0.6  Indian   \n",
       "4           8.3     31.4           29.3     9.6    4.9   1.1  Indian   \n",
       "\n",
       "   VeggieScore  \n",
       "0            2  \n",
       "1            6  \n",
       "2           11  \n",
       "3            9  \n",
       "4            8  "
      ]
     },
     "execution_count": 15,
     "metadata": {},
     "output_type": "execute_result"
    }
   ],
   "source": [
    "# Calculate the vegetable score for each recipe\n",
    "\n",
    "# Count how many vegetables are included among the ingredients for each recipe\n",
    "scores = [] \n",
    "for i in range(len(data['Ingredients'])):\n",
    "    check_string = data['Ingredients'][i]\n",
    "    score = 0\n",
    "    for j in range(len(veggies)):\n",
    "        score += check_string.count(veggies[j])\n",
    "    scores.append(score)\n",
    "\n",
    "# Add the score to the dataframe\n",
    "data['VeggieScore'] = scores\n",
    "data.head()\n"
   ]
  },
  {
   "cell_type": "code",
   "execution_count": 16,
   "metadata": {},
   "outputs": [
    {
     "data": {
      "text/html": [
       "<div>\n",
       "<style scoped>\n",
       "    .dataframe tbody tr th:only-of-type {\n",
       "        vertical-align: middle;\n",
       "    }\n",
       "\n",
       "    .dataframe tbody tr th {\n",
       "        vertical-align: top;\n",
       "    }\n",
       "\n",
       "    .dataframe thead th {\n",
       "        text-align: right;\n",
       "    }\n",
       "</style>\n",
       "<table border=\"1\" class=\"dataframe\">\n",
       "  <thead>\n",
       "    <tr style=\"text-align: right;\">\n",
       "      <th></th>\n",
       "      <th>count</th>\n",
       "      <th>mean</th>\n",
       "      <th>std</th>\n",
       "      <th>min</th>\n",
       "      <th>25%</th>\n",
       "      <th>50%</th>\n",
       "      <th>75%</th>\n",
       "      <th>max</th>\n",
       "    </tr>\n",
       "    <tr>\n",
       "      <th>Type</th>\n",
       "      <th></th>\n",
       "      <th></th>\n",
       "      <th></th>\n",
       "      <th></th>\n",
       "      <th></th>\n",
       "      <th></th>\n",
       "      <th></th>\n",
       "      <th></th>\n",
       "    </tr>\n",
       "  </thead>\n",
       "  <tbody>\n",
       "    <tr>\n",
       "      <th>Indian</th>\n",
       "      <td>81.0</td>\n",
       "      <td>6.506173</td>\n",
       "      <td>3.991001</td>\n",
       "      <td>0.0</td>\n",
       "      <td>3.0</td>\n",
       "      <td>6.0</td>\n",
       "      <td>9.00</td>\n",
       "      <td>20.0</td>\n",
       "    </tr>\n",
       "    <tr>\n",
       "      <th>Italian</th>\n",
       "      <td>83.0</td>\n",
       "      <td>4.903614</td>\n",
       "      <td>3.121970</td>\n",
       "      <td>0.0</td>\n",
       "      <td>3.0</td>\n",
       "      <td>4.0</td>\n",
       "      <td>6.00</td>\n",
       "      <td>16.0</td>\n",
       "    </tr>\n",
       "    <tr>\n",
       "      <th>Mexican</th>\n",
       "      <td>73.0</td>\n",
       "      <td>6.506849</td>\n",
       "      <td>2.958619</td>\n",
       "      <td>0.0</td>\n",
       "      <td>4.0</td>\n",
       "      <td>6.0</td>\n",
       "      <td>8.00</td>\n",
       "      <td>14.0</td>\n",
       "    </tr>\n",
       "    <tr>\n",
       "      <th>Spanish</th>\n",
       "      <td>82.0</td>\n",
       "      <td>4.524390</td>\n",
       "      <td>2.833772</td>\n",
       "      <td>0.0</td>\n",
       "      <td>2.0</td>\n",
       "      <td>4.0</td>\n",
       "      <td>6.00</td>\n",
       "      <td>12.0</td>\n",
       "    </tr>\n",
       "    <tr>\n",
       "      <th>vegan</th>\n",
       "      <td>90.0</td>\n",
       "      <td>6.366667</td>\n",
       "      <td>4.485808</td>\n",
       "      <td>0.0</td>\n",
       "      <td>4.0</td>\n",
       "      <td>6.0</td>\n",
       "      <td>8.75</td>\n",
       "      <td>32.0</td>\n",
       "    </tr>\n",
       "  </tbody>\n",
       "</table>\n",
       "</div>"
      ],
      "text/plain": [
       "         count      mean       std  min  25%  50%   75%   max\n",
       "Type                                                         \n",
       "Indian    81.0  6.506173  3.991001  0.0  3.0  6.0  9.00  20.0\n",
       "Italian   83.0  4.903614  3.121970  0.0  3.0  4.0  6.00  16.0\n",
       "Mexican   73.0  6.506849  2.958619  0.0  4.0  6.0  8.00  14.0\n",
       "Spanish   82.0  4.524390  2.833772  0.0  2.0  4.0  6.00  12.0\n",
       "vegan     90.0  6.366667  4.485808  0.0  4.0  6.0  8.75  32.0"
      ]
     },
     "execution_count": 16,
     "metadata": {},
     "output_type": "execute_result"
    }
   ],
   "source": [
    "data.groupby('Type')['VeggieScore'].describe()\n"
   ]
  },
  {
   "cell_type": "code",
   "execution_count": 26,
   "metadata": {},
   "outputs": [
    {
     "data": {
      "text/plain": [
       "'500ml apple cider vinegar, 200g caster sugar, 2 tbsp fine salt, 1 tbsp black peppercorns, 1 tbsp yellow mustard seeds, 1 tbsp celery seeds, 1 tbsp coriander seeds, 450g mixed baby heritage carrots, 1 small cauliflower, cut into florets, 250g raw beetroot, peeled and cut into 3cm chunks, Olive oil to drizzle, 400g tin chickpeas, 1 tsp ground cumin, 1 garlic clove, crushed, 2 tbsp tahini, 1 tbsp pomegranate molasses, plus extra to drizzle, Juice\\xa0½ lemon, Pomegranate seeds to serve, 250g carrots, topped and chopped into 3cm chunks, Olive oil to drizzle, 400g tin chickpeas, 1 tsp carawy seeds, toasted, 1 garlic clove, crushed, 2 tbsp tahini, Juice\\xa0½ lemon, Pul biber (aleppo pepper) to serve – see Know-how, 150g frozen petit pois, defrosted, 400g tin chickpeas, 2 fresh mint sprigs, leaves picked, plus extra chopped leaves to serve, 1 garlic clove, crushed, 2 tbsp tahini, Juice 1 lemon, Mixed heritage beetroot (we used 2 golden candy, 2 candy and 2 red), sliced thinly, 200g mixed radishes, 2 green chicory, leaves separated, 2 red chicory, leaves separated, 6 celery sticks, cut in batons, 200g large green olives, 200g sweety drop or peppadew peppers, Food processor'"
      ]
     },
     "execution_count": 26,
     "metadata": {},
     "output_type": "execute_result"
    }
   ],
   "source": [
    "# VeggieScore works quite well, but it's still an approximate measure (veggie list is not\n",
    "# perfect, there might be typos in the ingredient list, olive oil might count as olive, etc.) \n",
    "# And of course, it does not account for the quantity of vegetable (cups, grams, pieces).\n",
    "\n",
    "data.loc[data['VeggieScore'] == data['VeggieScore'].max()]\n",
    "data.loc[260]['Ingredients']\n"
   ]
  },
  {
   "cell_type": "code",
   "execution_count": 28,
   "metadata": {},
   "outputs": [
    {
     "data": {
      "text/plain": [
       "'50g coriander seeds, 10g dried red chillies, 1 tbsp cumin seeds, 1 tbsp black mustard seeds, 1 tbsp split black lentils (urad dhal), 1 tbsp split chickpeas (chana dhal), 1 tbsp split pigeon peas (toor dhal), 10 dried curry leaves, 1 tbsp ground turmeric, 1 tsp asafoetida, 250g split pigeon peas (toor dhal), 1 tbsp split chickpeas (chana dhal), 1½ tsp salt, 1 tsp ground turmeric, 1 tbsp sunflower oil, 1 tsp mustard seeds, 10 dried curry leaves\\xa0, 4 dried red chillies, 1 onion, thinly sliced, 2 tbsp spice blend, 1 tbsp tamarind paste'"
      ]
     },
     "execution_count": 28,
     "metadata": {},
     "output_type": "execute_result"
    }
   ],
   "source": [
    "data.loc[data['VeggieScore'] == 20]\n",
    "data.loc[61]['Ingredients']"
   ]
  },
  {
   "cell_type": "code",
   "execution_count": 31,
   "metadata": {},
   "outputs": [
    {
     "data": {
      "image/png": "[encoded data removed]",
      "text/plain": [
       "<Figure size 1080x216 with 5 Axes>"
      ]
     },
     "metadata": {
      "needs_background": "light"
     },
     "output_type": "display_data"
    }
   ],
   "source": [
    "# VeggieScore plot\n",
    "g = sns.FacetGrid(data, col=\"Type\")\n",
    "g = g.map(plt.hist, 'VeggieScore', bins = 20)\n",
    "plt.show()\n"
   ]
  },
  {
   "cell_type": "code",
   "execution_count": 18,
   "metadata": {},
   "outputs": [
    {
     "data": {
      "text/html": [
       "<div>\n",
       "<style scoped>\n",
       "    .dataframe tbody tr th:only-of-type {\n",
       "        vertical-align: middle;\n",
       "    }\n",
       "\n",
       "    .dataframe tbody tr th {\n",
       "        vertical-align: top;\n",
       "    }\n",
       "\n",
       "    .dataframe thead th {\n",
       "        text-align: right;\n",
       "    }\n",
       "</style>\n",
       "<table border=\"1\" class=\"dataframe\">\n",
       "  <thead>\n",
       "    <tr style=\"text-align: right;\">\n",
       "      <th></th>\n",
       "      <th>Title</th>\n",
       "      <th>Ingredients</th>\n",
       "      <th>Kcal</th>\n",
       "      <th>Fat</th>\n",
       "      <th>SaturatedFat</th>\n",
       "      <th>Protein</th>\n",
       "      <th>Carbohydrates</th>\n",
       "      <th>Sugars</th>\n",
       "      <th>Fibre</th>\n",
       "      <th>Salt</th>\n",
       "      <th>Type</th>\n",
       "      <th>VeggieScore</th>\n",
       "    </tr>\n",
       "  </thead>\n",
       "  <tbody>\n",
       "    <tr>\n",
       "      <th>194</th>\n",
       "      <td>Mini sweet lasagnes</td>\n",
       "      <td>125g dried lasagne pasta sheets made with egg,...</td>\n",
       "      <td>736.0</td>\n",
       "      <td>16.1</td>\n",
       "      <td>9.4</td>\n",
       "      <td>17.2</td>\n",
       "      <td>127.4</td>\n",
       "      <td>39.1</td>\n",
       "      <td>6.1</td>\n",
       "      <td>0.2</td>\n",
       "      <td>Italian</td>\n",
       "      <td>3</td>\n",
       "    </tr>\n",
       "  </tbody>\n",
       "</table>\n",
       "</div>"
      ],
      "text/plain": [
       "                   Title                                        Ingredients  \\\n",
       "194  Mini sweet lasagnes  125g dried lasagne pasta sheets made with egg,...   \n",
       "\n",
       "      Kcal   Fat  SaturatedFat  Protein  Carbohydrates  Sugars  Fibre  Salt  \\\n",
       "194  736.0  16.1           9.4     17.2          127.4    39.1    6.1   0.2   \n",
       "\n",
       "        Type  VeggieScore  \n",
       "194  Italian            3  "
      ]
     },
     "execution_count": 18,
     "metadata": {},
     "output_type": "execute_result"
    }
   ],
   "source": [
    "data.loc[data['Carbohydrates'] == data['Carbohydrates'].max()]\n"
   ]
  },
  {
   "cell_type": "code",
   "execution_count": null,
   "metadata": {},
   "outputs": [],
   "source": []
  },
  {
   "cell_type": "code",
   "execution_count": 19,
   "metadata": {},
   "outputs": [
    {
     "data": {
      "text/html": [
       "<div>\n",
       "<style scoped>\n",
       "    .dataframe tbody tr th:only-of-type {\n",
       "        vertical-align: middle;\n",
       "    }\n",
       "\n",
       "    .dataframe tbody tr th {\n",
       "        vertical-align: top;\n",
       "    }\n",
       "\n",
       "    .dataframe thead th {\n",
       "        text-align: right;\n",
       "    }\n",
       "</style>\n",
       "<table border=\"1\" class=\"dataframe\">\n",
       "  <thead>\n",
       "    <tr style=\"text-align: right;\">\n",
       "      <th></th>\n",
       "      <th>Title</th>\n",
       "      <th>Ingredients</th>\n",
       "      <th>Kcal</th>\n",
       "      <th>Fat</th>\n",
       "      <th>SaturatedFat</th>\n",
       "      <th>Protein</th>\n",
       "      <th>Carbohydrates</th>\n",
       "      <th>Sugars</th>\n",
       "      <th>Fibre</th>\n",
       "      <th>Salt</th>\n",
       "      <th>Type</th>\n",
       "      <th>VeggieScore</th>\n",
       "    </tr>\n",
       "  </thead>\n",
       "  <tbody>\n",
       "    <tr>\n",
       "      <th>105</th>\n",
       "      <td>Clam chowder</td>\n",
       "      <td>250ml dry white wine, 50g butter, 2kg cleaned ...</td>\n",
       "      <td>896.0</td>\n",
       "      <td>62.0</td>\n",
       "      <td>33.6</td>\n",
       "      <td>33.5</td>\n",
       "      <td>31.7</td>\n",
       "      <td>8.3</td>\n",
       "      <td>5.4</td>\n",
       "      <td>5.3</td>\n",
       "      <td>Spanish</td>\n",
       "      <td>7</td>\n",
       "    </tr>\n",
       "  </tbody>\n",
       "</table>\n",
       "</div>"
      ],
      "text/plain": [
       "            Title                                        Ingredients   Kcal  \\\n",
       "105  Clam chowder  250ml dry white wine, 50g butter, 2kg cleaned ...  896.0   \n",
       "\n",
       "      Fat  SaturatedFat  Protein  Carbohydrates  Sugars  Fibre  Salt     Type  \\\n",
       "105  62.0          33.6     33.5           31.7     8.3    5.4   5.3  Spanish   \n",
       "\n",
       "     VeggieScore  \n",
       "105            7  "
      ]
     },
     "execution_count": 19,
     "metadata": {},
     "output_type": "execute_result"
    }
   ],
   "source": [
    "data.loc[data['SaturatedFat'] == data['SaturatedFat'].max()]\n"
   ]
  },
  {
   "cell_type": "code",
   "execution_count": null,
   "metadata": {},
   "outputs": [],
   "source": []
  }
 ],
 "metadata": {
  "kernelspec": {
   "display_name": "Python 3",
   "language": "python",
   "name": "python3"
  },
  "language_info": {
   "codemirror_mode": {
    "name": "ipython",
    "version": 3
   },
   "file_extension": ".py",
   "mimetype": "text/x-python",
   "name": "python",
   "nbconvert_exporter": "python",
   "pygments_lexer": "ipython3",
   "version": "3.7.7"
  }
 },
 "nbformat": 4,
 "nbformat_minor": 4
}
