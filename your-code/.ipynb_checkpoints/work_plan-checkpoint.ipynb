{
 "cells": [
  {
   "cell_type": "code",
   "execution_count": null,
   "metadata": {},
   "outputs": [],
   "source": [
    "# QUESTION: \n",
    "# Am I more likely to gain weight if I stick to Spanish or Italian cuisine during quarantine?\n",
    "# \n",
    "# Data\n",
    "# Web scraped by type of cuisine from https://www.deliciousmagazine.co.uk/\n",
    "# \n",
    "# If I find the way to do it, I might combine the scraped data with this list:\n",
    "# Food nutritional values: https://data.world/awram/food-nutritional-values\n",
    "# \n",
    "# Nr. of recipes on the website by type of cuisine:\n",
    "# Spanish 164\n",
    "# Italian 1058\n",
    "# Indian 359\n",
    "# Mexican 157\n",
    "# Greek 137\n",
    "# Moroccan 108\n",
    "# French 428\n",
    "# Japanese 73\n",
    "# Chinese 73\n",
    "# American 233"
   ]
  },
  {
   "cell_type": "code",
   "execution_count": null,
   "metadata": {},
   "outputs": [],
   "source": [
    "# WORK PLAN\n",
    "\n",
    "# 1. Scrape links to recipes by cuisine (Spanish, Italian, etc. ...) from the website\n",
    "# 2. Scrape ingredient list () and nutritional value table (kcal, proteins, etc.) for each recipe\n",
    "# 3. Organise the data in a dataframe, then csv file & SQL database\n",
    "# 4. Clean the data\n",
    "# 5. Perform exploratory analysis\n",
    "# 6. Assign score to each recipe by the number of vegetables included (mentioned, not quantities)\n",
    "# 7. Hypothesis testing (try to answer the main question)\n",
    "# 8. Which cuisine uses more vegetables?\n",
    "# 9. Presentation\n"
   ]
  },
  {
   "cell_type": "code",
   "execution_count": 3,
   "metadata": {},
   "outputs": [],
   "source": [
    "\n",
    "import requests\n",
    "from bs4 import BeautifulSoup\n",
    "import pandas as pd\n",
    "from time import sleep\n",
    "from random import randint\n",
    "import time\n",
    "from IPython.core.display import clear_output\n",
    "from warnings import warn\n",
    "from urllib.request import Request, urlopen \n"
   ]
  },
  {
   "cell_type": "code",
   "execution_count": 4,
   "metadata": {},
   "outputs": [],
   "source": []
  },
  {
   "cell_type": "code",
   "execution_count": null,
   "metadata": {},
   "outputs": [],
   "source": []
  },
  {
   "cell_type": "code",
   "execution_count": null,
   "metadata": {},
   "outputs": [],
   "source": []
  },
  {
   "cell_type": "code",
   "execution_count": null,
   "metadata": {},
   "outputs": [],
   "source": []
  },
  {
   "cell_type": "code",
   "execution_count": null,
   "metadata": {},
   "outputs": [],
   "source": []
  }
 ],
 "metadata": {
  "kernelspec": {
   "display_name": "Python 3",
   "language": "python",
   "name": "python3"
  },
  "language_info": {
   "codemirror_mode": {
    "name": "ipython",
    "version": 3
   },
   "file_extension": ".py",
   "mimetype": "text/x-python",
   "name": "python",
   "nbconvert_exporter": "python",
   "pygments_lexer": "ipython3",
   "version": "3.7.7"
  }
 },
 "nbformat": 4,
 "nbformat_minor": 4
}
